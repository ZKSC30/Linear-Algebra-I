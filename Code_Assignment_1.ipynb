{
 "cells": [
  {
   "cell_type": "markdown",
   "id": "abaa089b",
   "metadata": {},
   "source": [
    "# Code Assignment 1: Complex Vector Spaces\n",
    "\n",
    "### The implementation we will use in this class for vectors is <a href = \"https://numpy.org/doc/stable/reference/generated/numpy.array.html\">nupy.array</a>. Numpy is a shorthand for numerical routines in python. Numpy's implementation of complex numbers uses $j$ for the imaginary unit (which is sometimes called the engineering notation) we will not follow this trend since most math textbooks use $i$ instead, so there is some translation required of you to read the $j$'s from the code as the $i$'s from the text."
   ]
  },
  {
   "cell_type": "code",
   "execution_count": null,
   "id": "4a751385",
   "metadata": {},
   "outputs": [],
   "source": [
    "import numpy as np"
   ]
  },
  {
   "cell_type": "markdown",
   "id": "e3df2d85",
   "metadata": {},
   "source": [
    "## Problem 1: Complex numbers I\n",
    "\n",
    "### Recall from PS1 that we found $c$ and $d$ such that:\n",
    "\n",
    "\\begin{equation}\n",
    "    \\frac{1}{a+bi} = c + di\n",
    "\\end{equation}\n",
    "\n",
    "### Complete the following function which takes $a$ and $b$ as arguments and returns the corresponding $c$ and $d$."
   ]
  },
  {
   "cell_type": "code",
   "execution_count": null,
   "id": "b5a24657",
   "metadata": {},
   "outputs": [],
   "source": [
    "def inverse_of_complex(z):\n",
    "    \n",
    "    ''' Get the real and imaginary parts using numpy '''\n",
    "    a = z.real\n",
    "    b = z.imag\n",
    "    \n",
    "    ''' Build the real and imaginary of the inverse '''\n",
    "    c = # Your code goes here\n",
    "    d = # Your code goes here\n",
    "    \n",
    "    return c + d * 1j"
   ]
  },
  {
   "cell_type": "markdown",
   "id": "1e7aa0ab",
   "metadata": {},
   "source": [
    "#### Check your answer"
   ]
  },
  {
   "cell_type": "code",
   "execution_count": null,
   "id": "d1a82704",
   "metadata": {},
   "outputs": [],
   "source": [
    "''' This is a function that checks if your function is correct '''\n",
    "check_your_answer_1 = lambda z : z*inverse_of_complex(z) == 1"
   ]
  },
  {
   "cell_type": "code",
   "execution_count": null,
   "id": "3e38819a",
   "metadata": {},
   "outputs": [],
   "source": [
    "''' Choose some z to check your answer '''\n",
    "z = # Your choice goes here\n",
    "check_your_answer_1(z)"
   ]
  },
  {
   "cell_type": "markdown",
   "id": "8d8d188b",
   "metadata": {},
   "source": [
    "## Problem 2: Complex Numbers II\n",
    "\n",
    "### In PS1.3 you found the complex roots of $x^2+3x+5$, now complete the following code which takes the coefficients of a generic second degree polynomial: $ax^2+bx+c$, and returns its two, possibly complex, roots.\n",
    "\n",
    "\n",
    "#### Recall that in order to use square roots in numpy we can use np.sqrt, however even though the argument can be a negative number we must add a zero imaginary part to the argument of the square root for numpy to understand that we wish to get the complex result, in reality what this does is it forces numpy to use of the complex version of the np.sqrt function.\n",
    "\n",
    "#### For example:"
   ]
  },
  {
   "cell_type": "code",
   "execution_count": null,
   "id": "4d80b637",
   "metadata": {},
   "outputs": [],
   "source": [
    "np.sqrt(-1)"
   ]
  },
  {
   "cell_type": "markdown",
   "id": "acddac85",
   "metadata": {},
   "source": [
    "#### Fails, while although the following represents the same operation:"
   ]
  },
  {
   "cell_type": "code",
   "execution_count": null,
   "id": "cfb15102",
   "metadata": {},
   "outputs": [],
   "source": [
    "np.sqrt(-1+0j)"
   ]
  },
  {
   "cell_type": "markdown",
   "id": "93a4ec42",
   "metadata": {},
   "source": [
    "#### doesn't"
   ]
  },
  {
   "cell_type": "code",
   "execution_count": null,
   "id": "09e5811f",
   "metadata": {},
   "outputs": [],
   "source": [
    "def get_roots(a,b,c):\n",
    "    \n",
    "    ''' Compute both roots and assign them '''\n",
    "    root_1 = # Your code goes here\n",
    "    root_2 = # Your code goes here\n",
    "    \n",
    "    return np.array([root_1,root_2])"
   ]
  },
  {
   "cell_type": "markdown",
   "id": "8694f0c4",
   "metadata": {},
   "source": [
    "#### Check your answer"
   ]
  },
  {
   "cell_type": "code",
   "execution_count": null,
   "id": "38ea0137",
   "metadata": {},
   "outputs": [],
   "source": [
    "''' Function that checks if your answers are correct '''\n",
    "check_your_answer_2 = lambda a,b,c : a*get_roots(a,b,c)**2 + b*get_roots(a,b,c) + c == np.array([0,0])"
   ]
  },
  {
   "cell_type": "code",
   "execution_count": null,
   "id": "e65e80d5",
   "metadata": {},
   "outputs": [],
   "source": [
    "''' Choose some a,b,c to check your function '''\n",
    "a = # Your choice goes here\n",
    "b = # Your choice goes here\n",
    "c = # Your choice goes here\n",
    "check_your_answer_2(a,b,c)"
   ]
  },
  {
   "cell_type": "markdown",
   "id": "6f485662",
   "metadata": {},
   "source": [
    "## Problem 3: Complex Vectors I\n",
    "\n",
    "### Vector operations in python are very simple thanks to numpy, for example adding two vectors is very simple simply add a + sing between the names of the two vectors:"
   ]
  },
  {
   "cell_type": "code",
   "execution_count": null,
   "id": "d7d8feec",
   "metadata": {},
   "outputs": [],
   "source": [
    "vector_a = np.array([1+0j , -3+2j, 5+8j])\n",
    "vector_b = np.array([10j, 2-1j, 3+0j, 1j])\n",
    "vector_c = np.array([34,5j,-6-8j,7j])"
   ]
  },
  {
   "cell_type": "markdown",
   "id": "bd87baea",
   "metadata": {},
   "source": [
    "### In a separate piece of paper carry out the following vector operations and write them following the syntax we used for vector_a, vector_b, and vector_c:\n",
    "\n",
    "\\begin{equation}\n",
    "    \\begin{aligned}\n",
    "        \\vec d & = 2*\\vec a - \\vec b\\\\\n",
    "        \\vec e & = (5+i)* \\vec c - (1-i)*\\vec a\n",
    "    \\end{aligned}\n",
    "\\end{equation}"
   ]
  },
  {
   "cell_type": "code",
   "execution_count": null,
   "id": "080c3151",
   "metadata": {},
   "outputs": [],
   "source": [
    "vector_d = #Your code goes here\n",
    "vector_e = #Your code goes here"
   ]
  },
  {
   "cell_type": "markdown",
   "id": "24fe43be",
   "metadata": {},
   "source": [
    "## Problem 4: Complex Numbers as 2D Real Vectors\n",
    "\n",
    "#### In this problem we will learn how to display complex numbers using python, firstly we need to import a plotting libarry, we use mathplotlib:"
   ]
  },
  {
   "cell_type": "code",
   "execution_count": null,
   "id": "0e2190f8",
   "metadata": {},
   "outputs": [],
   "source": [
    "import matplotlib.pyplot as plt"
   ]
  },
  {
   "cell_type": "code",
   "execution_count": null,
   "id": "700b7031",
   "metadata": {},
   "outputs": [],
   "source": [
    "''' This function plots a single complex number z '''\n",
    "def plot_complex(z,origin=0+0j):\n",
    "    plt.plot([origin.real,z.real],[origin.imag,z.imag])"
   ]
  },
  {
   "cell_type": "code",
   "execution_count": null,
   "id": "785be829",
   "metadata": {},
   "outputs": [],
   "source": [
    "''' Let's view a couple of vectors '''\n",
    "plot_complex(3+4j)\n",
    "plot_complex(5-4j)\n",
    "plot_complex(7+4j)"
   ]
  },
  {
   "cell_type": "markdown",
   "id": "f4985435",
   "metadata": {},
   "source": [
    "#### If you notice the function has origin=0+0j, this is a way of specifying a \"default argument\" in python. The way to think about those is that they can be omitted and python would use whatever is writen in the definition of the function, in this case it would be 0+0j, but if one chooses one can specify this argument and python would use the specified value instead. \n",
    "\n",
    "#### In our function this argument relates to the base point of the vector, which is usually the the origin of coordinates. But we can change this and this would result in complex numbers that are not based on the origin, for example:"
   ]
  },
  {
   "cell_type": "code",
   "execution_count": null,
   "id": "c7d3aed4",
   "metadata": {},
   "outputs": [],
   "source": [
    "plot_complex(2+4j,1+1j)\n",
    "plot_complex(5-7j)"
   ]
  },
  {
   "cell_type": "markdown",
   "id": "093b0484",
   "metadata": {},
   "source": [
    "#### If you recall from class we argued that the sum of two 2D vectors corresponds geometrically to finding the diagonal of the parallelogram formed by the vectors, this is also true for complex numbers. Let's fix two complex numbers:"
   ]
  },
  {
   "cell_type": "code",
   "execution_count": null,
   "id": "28fca5a0",
   "metadata": {},
   "outputs": [],
   "source": [
    "z1 = 1+1j\n",
    "z2 = 2-5j"
   ]
  },
  {
   "cell_type": "markdown",
   "id": "e1025160",
   "metadata": {},
   "source": [
    "#### a) Make a drawing that displays the parallelogram rule of addtion for z1 and z2. [Hint: Be mindful of where the vectors start and where do they end.]"
   ]
  },
  {
   "cell_type": "code",
   "execution_count": null,
   "id": "b1ae1da0",
   "metadata": {},
   "outputs": [],
   "source": [
    "plot_complex()\n",
    "plot_complex()\n",
    "plot_complex()\n",
    "plot_complex()\n",
    "plot_complex()"
   ]
  },
  {
   "cell_type": "markdown",
   "id": "943c2d62",
   "metadata": {},
   "source": [
    "#### b) Make a drawing that displays the parallelogram rule of subtraction for z1 and z2 [Hint: Be mindful of where the vectors start and where do they end.]"
   ]
  },
  {
   "cell_type": "code",
   "execution_count": null,
   "id": "b11aba46",
   "metadata": {},
   "outputs": [],
   "source": [
    "plot_complex()\n",
    "plot_complex()\n",
    "plot_complex()\n",
    "plot_complex()\n",
    "plot_complex()"
   ]
  }
 ],
 "metadata": {
  "kernelspec": {
   "display_name": "Python 3 (ipykernel)",
   "language": "python",
   "name": "python3"
  },
  "language_info": {
   "codemirror_mode": {
    "name": "ipython",
    "version": 3
   },
   "file_extension": ".py",
   "mimetype": "text/x-python",
   "name": "python",
   "nbconvert_exporter": "python",
   "pygments_lexer": "ipython3",
   "version": "3.9.12"
  }
 },
 "nbformat": 4,
 "nbformat_minor": 5
}
