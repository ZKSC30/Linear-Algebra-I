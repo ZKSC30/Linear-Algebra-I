{
 "cells": [
  {
   "cell_type": "markdown",
   "id": "bd7b3eed",
   "metadata": {},
   "source": [
    "# Python Variables"
   ]
  },
  {
   "cell_type": "code",
   "execution_count": null,
   "id": "b23cda04",
   "metadata": {},
   "outputs": [],
   "source": [
    "import numpy as np"
   ]
  },
  {
   "cell_type": "markdown",
   "id": "71792ab8",
   "metadata": {},
   "source": [
    "In order to define numerical constants in python we simply assign their value using an \"=\" sign, the names of variables cannot include special characters, nor can they start with a numeral. For example these are valid variables:"
   ]
  },
  {
   "cell_type": "code",
   "execution_count": null,
   "id": "7e77e832",
   "metadata": {},
   "outputs": [],
   "source": [
    "z = 1+2j\n",
    "r = np.sqrt(3)\n",
    "n = 17"
   ]
  },
  {
   "cell_type": "markdown",
   "id": "216889c7",
   "metadata": {},
   "source": [
    "While these aren't:"
   ]
  },
  {
   "cell_type": "code",
   "execution_count": null,
   "id": "d8a1cad8",
   "metadata": {},
   "outputs": [],
   "source": [
    "6q = 44"
   ]
  },
  {
   "cell_type": "code",
   "execution_count": null,
   "id": "a286f09d",
   "metadata": {},
   "outputs": [],
   "source": [
    "name$ = 99"
   ]
  },
  {
   "cell_type": "markdown",
   "id": "6c909c8f",
   "metadata": {},
   "source": [
    "To define words in python we can use \"\" to delimitate any string of characters:"
   ]
  },
  {
   "cell_type": "code",
   "execution_count": null,
   "id": "a0a7aba9",
   "metadata": {},
   "outputs": [],
   "source": [
    "some_message = \"Hello, I hope you are having a good day!\""
   ]
  },
  {
   "cell_type": "markdown",
   "id": "0043fb8c",
   "metadata": {},
   "source": [
    "Messages can be concatenated by using the \"+\" symbol:"
   ]
  },
  {
   "cell_type": "code",
   "execution_count": null,
   "id": "2858585e",
   "metadata": {},
   "outputs": [],
   "source": [
    "start_of_message = \"Hello, \"\n",
    "end_of_message   = \"I hope you are having a good day!\"\n",
    "full_message     = start_of_message + end_of_message"
   ]
  },
  {
   "cell_type": "markdown",
   "id": "429d92a6",
   "metadata": {},
   "source": [
    "To display the value of any variable we can use the built-in function \"print\":"
   ]
  },
  {
   "cell_type": "code",
   "execution_count": null,
   "id": "b45e9ba0",
   "metadata": {},
   "outputs": [],
   "source": [
    "print(full_message)"
   ]
  },
  {
   "cell_type": "markdown",
   "id": "bbc51436",
   "metadata": {},
   "source": [
    "In order to define lists of objects in python we can use the built-in \"list\" type, in order to do so we use \"[]\", for example:"
   ]
  },
  {
   "cell_type": "code",
   "execution_count": null,
   "id": "d1df87df",
   "metadata": {},
   "outputs": [],
   "source": [
    "some_list = [ 22, 4-6j, \"Hello\"]"
   ]
  },
  {
   "cell_type": "markdown",
   "id": "4b842b55",
   "metadata": {},
   "source": [
    "Note that the elements of the list need not have the same type, though nice it turns out to be rather useless. There is another list-like type provided by the numpy library, this are the one we shall use the most, to create one we need to use the function np.array:"
   ]
  },
  {
   "cell_type": "code",
   "execution_count": null,
   "id": "d10c213c",
   "metadata": {},
   "outputs": [],
   "source": [
    "some_numpy_array = np.array([ 33, 22, \"H\" ])"
   ]
  },
  {
   "cell_type": "markdown",
   "id": "2affd736",
   "metadata": {},
   "source": [
    "These again can have anything inside of them, however there is a way to force them to only allow one kind of elements, this can be done by specifying the \"dtype\":"
   ]
  },
  {
   "cell_type": "code",
   "execution_count": null,
   "id": "d90694af",
   "metadata": {},
   "outputs": [],
   "source": [
    "some_strict_array = np.array([ 33,44,55 ],dtype=int)"
   ]
  },
  {
   "cell_type": "markdown",
   "id": "e6533dbd",
   "metadata": {},
   "source": [
    "So, for example, this code fails:"
   ]
  },
  {
   "cell_type": "code",
   "execution_count": null,
   "id": "7f578bd8",
   "metadata": {},
   "outputs": [],
   "source": [
    "other_strict_array = np.array([ 33, 22, \"H\" ],dtype=int)"
   ]
  },
  {
   "cell_type": "markdown",
   "id": "c529c0d0",
   "metadata": {},
   "source": [
    "#### To be continued..."
   ]
  }
 ],
 "metadata": {
  "kernelspec": {
   "display_name": "Python 3 (ipykernel)",
   "language": "python",
   "name": "python3"
  },
  "language_info": {
   "codemirror_mode": {
    "name": "ipython",
    "version": 3
   },
   "file_extension": ".py",
   "mimetype": "text/x-python",
   "name": "python",
   "nbconvert_exporter": "python",
   "pygments_lexer": "ipython3",
   "version": "3.9.12"
  }
 },
 "nbformat": 4,
 "nbformat_minor": 5
}
