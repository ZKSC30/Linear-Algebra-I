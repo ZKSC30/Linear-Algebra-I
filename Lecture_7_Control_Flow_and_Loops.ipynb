{
 "cells": [
  {
   "cell_type": "code",
   "execution_count": 1,
   "id": "dc171ea0",
   "metadata": {},
   "outputs": [],
   "source": [
    "import numpy as np"
   ]
  },
  {
   "cell_type": "markdown",
   "id": "5cd59ecb",
   "metadata": {},
   "source": [
    "# Problem: Write a program that determines if a number is prime or not."
   ]
  },
  {
   "cell_type": "code",
   "execution_count": 3,
   "id": "9336075c",
   "metadata": {},
   "outputs": [],
   "source": [
    "''' Pick a number '''\n",
    "\n",
    "n = 1347"
   ]
  },
  {
   "cell_type": "code",
   "execution_count": 5,
   "id": "d0b2d770",
   "metadata": {},
   "outputs": [
    {
     "name": "stdout",
     "output_type": "stream",
     "text": [
      "58.56521739130435\n"
     ]
    }
   ],
   "source": [
    "''' It is only divisible by itself and one '''\n",
    "\n",
    "''' These are many conditions:\n",
    "\n",
    "    If I try to divide this number by all number between 2 and itself-2\n",
    "    \n",
    "    Number n is prime <==> None of these divisions fit (leave a residue) \n",
    "\n",
    "'''"
   ]
  },
  {
   "cell_type": "code",
   "execution_count": 8,
   "id": "c4461094",
   "metadata": {},
   "outputs": [
    {
     "data": {
      "text/plain": [
       "673"
      ]
     },
     "execution_count": 8,
     "metadata": {},
     "output_type": "execute_result"
    }
   ],
   "source": [
    "''' \n",
    "    Fisrt symbol that might be useful \n",
    "\n",
    "    // return the quotient of the division of the two integers\n",
    "\n",
    "'''\n",
    "1347 // 2"
   ]
  },
  {
   "cell_type": "code",
   "execution_count": 10,
   "id": "2b19f7bc",
   "metadata": {},
   "outputs": [
    {
     "data": {
      "text/plain": [
       "1"
      ]
     },
     "execution_count": 10,
     "metadata": {},
     "output_type": "execute_result"
    }
   ],
   "source": [
    "''' \n",
    "    Fisrt symbol that might be useful \n",
    "\n",
    "    % return the remainder of the division of the two integers\n",
    "\n",
    "'''\n",
    "\n",
    "1347 % 2"
   ]
  },
  {
   "cell_type": "code",
   "execution_count": 13,
   "id": "df2057b9",
   "metadata": {},
   "outputs": [
    {
     "name": "stdout",
     "output_type": "stream",
     "text": [
      "0\n",
      "1\n",
      "1\n",
      "2\n",
      "2\n",
      "3\n",
      "3\n",
      "4\n",
      "4\n",
      "5\n",
      "5\n",
      "6\n",
      "6\n",
      "7\n",
      "7\n",
      "8\n",
      "8\n",
      "9\n",
      "9\n",
      "10\n"
     ]
    }
   ],
   "source": [
    "''' A number n is divisible m <==> The residue n % m = 0 '''\n",
    "\n",
    "''' \n",
    "    The concept of a for loop:  \n",
    "    \n",
    "    Perform some operation on a set of numbers incrementally\n",
    "\n",
    "'''\n",
    "\n",
    "for number in range(1,11):   # the name (number) is a free choice \n",
    "    # if number >= 10: \n",
    "    #    break\n",
    "    print(number-1)\n",
    "    print(number)\n",
    "    \n",
    "    # number = 1\n",
    "    # print(0)\n",
    "    # print(1)\n",
    "    \n",
    "    # number = 2\n",
    "    # print(1)\n",
    "    # print(2)"
   ]
  },
  {
   "cell_type": "code",
   "execution_count": 19,
   "id": "40ff75f2",
   "metadata": {},
   "outputs": [
    {
     "name": "stdout",
     "output_type": "stream",
     "text": [
      "It is not prime, it is divisible by: 3\n",
      "It is not prime, it is divisible by: 449\n"
     ]
    }
   ],
   "source": [
    "''' First Attempt '''\n",
    "\n",
    "for number in range(2,n-1):\n",
    "    x = n % number\n",
    "    if x == 0:\n",
    "        print(\"It is not prime, it is divisible by:\",number)\n",
    "        "
   ]
  },
  {
   "cell_type": "code",
   "execution_count": 20,
   "id": "15977254",
   "metadata": {},
   "outputs": [],
   "source": [
    "''' Prints all the divisiors of a given number '''\n",
    "\n",
    "def prime(n):\n",
    "    for number in range(2,n-1):\n",
    "        x = n % number\n",
    "        if x == 0:\n",
    "            print(\"Divisible by:\",number)\n",
    "        "
   ]
  },
  {
   "cell_type": "code",
   "execution_count": 22,
   "id": "c35af43f",
   "metadata": {},
   "outputs": [
    {
     "name": "stdout",
     "output_type": "stream",
     "text": [
      "Divisible by: 19\n",
      "Divisible by: 71\n"
     ]
    }
   ],
   "source": [
    "prime(1349)"
   ]
  },
  {
   "cell_type": "code",
   "execution_count": 26,
   "id": "e126c528",
   "metadata": {},
   "outputs": [],
   "source": [
    "''' Now we want a function that returns True if it is prime and False if not '''\n",
    "\n",
    "def is_prime(n):\n",
    "    for number in range(2,n-1): # Check all the numbers\n",
    "        x = n % number\n",
    "        if x == 0:              # If you find a divisior => not prime\n",
    "            return False\n",
    "    return True                 # If you are done checking => prime\n",
    "\n",
    "''' General rule: NEVER HAVE MORE THAN ONE RETURN '''"
   ]
  },
  {
   "cell_type": "code",
   "execution_count": 28,
   "id": "cf220f93",
   "metadata": {},
   "outputs": [
    {
     "data": {
      "text/plain": [
       "True"
      ]
     },
     "execution_count": 28,
     "metadata": {},
     "output_type": "execute_result"
    }
   ],
   "source": [
    "is_prime(13)"
   ]
  },
  {
   "cell_type": "code",
   "execution_count": 33,
   "id": "0c992e04",
   "metadata": {},
   "outputs": [],
   "source": [
    "''' Better version '''\n",
    "def is_prime_better(n):\n",
    "    isprime = True              # True or False\n",
    "    for number in range(2,n-1): # Check all the numbers\n",
    "        x = n % number\n",
    "        if x == 0:              # If you find a divisior => not prime\n",
    "            isprime = False\n",
    "            break               \n",
    "    return isprime              # If you are done checking => prime"
   ]
  },
  {
   "cell_type": "code",
   "execution_count": 35,
   "id": "7ca28ba7",
   "metadata": {},
   "outputs": [
    {
     "data": {
      "text/plain": [
       "False"
      ]
     },
     "execution_count": 35,
     "metadata": {},
     "output_type": "execute_result"
    }
   ],
   "source": [
    "is_prime_better(39)"
   ]
  },
  {
   "cell_type": "code",
   "execution_count": 39,
   "id": "167e8e23",
   "metadata": {},
   "outputs": [],
   "source": [
    "''' \n",
    "    We can check only primes less than the number: \n",
    "\n",
    "    How can we do this? \n",
    "    \n",
    "'''\n",
    "\n",
    "''' n is Prime <==> There are no primes less than n that divide n '''\n",
    "\n",
    "\n",
    "''' \n",
    "    [] are python lists: l = [2,3,5]\n",
    "    \n",
    "    Access elements\n",
    "    l[0] = 2\n",
    "    l[1] = 3\n",
    "    l[2] = 5\n",
    "    \n",
    "    Add elements\n",
    "    l.append(7)  => l = [2,3,5,7]\n",
    "    l.append(11) => l = [2,3,5,7,11]\n",
    "    \n",
    "    Delete elements\n",
    "    del l[0]     => l = [3,5,7,11]\n",
    "    \n",
    "\n",
    "'''\n",
    "\n",
    "''' Define a list to store all primes '''\n",
    "primes = []\n",
    "for number in range(2,n):\n",
    "    if is_prime_better(number):      # If the number is prime we append it\n",
    "        primes.append(number)"
   ]
  },
  {
   "cell_type": "code",
   "execution_count": 40,
   "id": "4400a910",
   "metadata": {},
   "outputs": [
    {
     "data": {
      "text/plain": [
       "[2,\n",
       " 3,\n",
       " 5,\n",
       " 7,\n",
       " 11,\n",
       " 13,\n",
       " 17,\n",
       " 19,\n",
       " 23,\n",
       " 29,\n",
       " 31,\n",
       " 37,\n",
       " 41,\n",
       " 43,\n",
       " 47,\n",
       " 53,\n",
       " 59,\n",
       " 61,\n",
       " 67,\n",
       " 71,\n",
       " 73,\n",
       " 79,\n",
       " 83,\n",
       " 89,\n",
       " 97,\n",
       " 101,\n",
       " 103,\n",
       " 107,\n",
       " 109,\n",
       " 113,\n",
       " 127,\n",
       " 131,\n",
       " 137,\n",
       " 139,\n",
       " 149,\n",
       " 151,\n",
       " 157,\n",
       " 163,\n",
       " 167,\n",
       " 173,\n",
       " 179,\n",
       " 181,\n",
       " 191,\n",
       " 193,\n",
       " 197,\n",
       " 199,\n",
       " 211,\n",
       " 223,\n",
       " 227,\n",
       " 229,\n",
       " 233,\n",
       " 239,\n",
       " 241,\n",
       " 251,\n",
       " 257,\n",
       " 263,\n",
       " 269,\n",
       " 271,\n",
       " 277,\n",
       " 281,\n",
       " 283,\n",
       " 293,\n",
       " 307,\n",
       " 311,\n",
       " 313,\n",
       " 317,\n",
       " 331,\n",
       " 337,\n",
       " 347,\n",
       " 349,\n",
       " 353,\n",
       " 359,\n",
       " 367,\n",
       " 373,\n",
       " 379,\n",
       " 383,\n",
       " 389,\n",
       " 397,\n",
       " 401,\n",
       " 409,\n",
       " 419,\n",
       " 421,\n",
       " 431,\n",
       " 433,\n",
       " 439,\n",
       " 443,\n",
       " 449,\n",
       " 457,\n",
       " 461,\n",
       " 463,\n",
       " 467,\n",
       " 479,\n",
       " 487,\n",
       " 491,\n",
       " 499,\n",
       " 503,\n",
       " 509,\n",
       " 521,\n",
       " 523,\n",
       " 541,\n",
       " 547,\n",
       " 557,\n",
       " 563,\n",
       " 569,\n",
       " 571,\n",
       " 577,\n",
       " 587,\n",
       " 593,\n",
       " 599,\n",
       " 601,\n",
       " 607,\n",
       " 613,\n",
       " 617,\n",
       " 619,\n",
       " 631,\n",
       " 641,\n",
       " 643,\n",
       " 647,\n",
       " 653,\n",
       " 659,\n",
       " 661,\n",
       " 673,\n",
       " 677,\n",
       " 683,\n",
       " 691,\n",
       " 701,\n",
       " 709,\n",
       " 719,\n",
       " 727,\n",
       " 733,\n",
       " 739,\n",
       " 743,\n",
       " 751,\n",
       " 757,\n",
       " 761,\n",
       " 769,\n",
       " 773,\n",
       " 787,\n",
       " 797,\n",
       " 809,\n",
       " 811,\n",
       " 821,\n",
       " 823,\n",
       " 827,\n",
       " 829,\n",
       " 839,\n",
       " 853,\n",
       " 857,\n",
       " 859,\n",
       " 863,\n",
       " 877,\n",
       " 881,\n",
       " 883,\n",
       " 887,\n",
       " 907,\n",
       " 911,\n",
       " 919,\n",
       " 929,\n",
       " 937,\n",
       " 941,\n",
       " 947,\n",
       " 953,\n",
       " 967,\n",
       " 971,\n",
       " 977,\n",
       " 983,\n",
       " 991,\n",
       " 997,\n",
       " 1009,\n",
       " 1013,\n",
       " 1019,\n",
       " 1021,\n",
       " 1031,\n",
       " 1033,\n",
       " 1039,\n",
       " 1049,\n",
       " 1051,\n",
       " 1061,\n",
       " 1063,\n",
       " 1069,\n",
       " 1087,\n",
       " 1091,\n",
       " 1093,\n",
       " 1097,\n",
       " 1103,\n",
       " 1109,\n",
       " 1117,\n",
       " 1123,\n",
       " 1129,\n",
       " 1151,\n",
       " 1153,\n",
       " 1163,\n",
       " 1171,\n",
       " 1181,\n",
       " 1187,\n",
       " 1193,\n",
       " 1201,\n",
       " 1213,\n",
       " 1217,\n",
       " 1223,\n",
       " 1229,\n",
       " 1231,\n",
       " 1237,\n",
       " 1249,\n",
       " 1259,\n",
       " 1277,\n",
       " 1279,\n",
       " 1283,\n",
       " 1289,\n",
       " 1291,\n",
       " 1297,\n",
       " 1301,\n",
       " 1303,\n",
       " 1307,\n",
       " 1319,\n",
       " 1321,\n",
       " 1327]"
      ]
     },
     "execution_count": 40,
     "metadata": {},
     "output_type": "execute_result"
    }
   ],
   "source": [
    "primes"
   ]
  },
  {
   "cell_type": "code",
   "execution_count": 57,
   "id": "46612618",
   "metadata": {},
   "outputs": [],
   "source": [
    "\n",
    "def is_divisible(number,divisor):\n",
    "    residue = number % divisor\n",
    "    return (residue == 0)         # Return \n",
    "    \n",
    "''' This creates the list of primes in a self-consistent way '''\n",
    "def build_list_of_primes(n):\n",
    "    primes = [2]\n",
    "    for number in range(3,n):\n",
    "        isprime = True\n",
    "        for prime in primes:                 # For loop that checks all the already known primes\n",
    "            if is_divisible(number,prime):\n",
    "                isprime = False              # If I find a prime that divides it => NOT PRIME\n",
    "                break\n",
    "                \n",
    "        # When done if the variable isprime is True, this means it did not go into the previous if\n",
    "        if isprime:\n",
    "            primes.append(number)\n",
    "    return primes"
   ]
  },
  {
   "cell_type": "code",
   "execution_count": 62,
   "id": "90b24e6f",
   "metadata": {},
   "outputs": [],
   "source": [
    "p = build_list_of_primes(21)"
   ]
  },
  {
   "cell_type": "code",
   "execution_count": 63,
   "id": "0388c002",
   "metadata": {},
   "outputs": [
    {
     "data": {
      "text/plain": [
       "[2, 3, 5, 7, 11, 13, 17, 19]"
      ]
     },
     "execution_count": 63,
     "metadata": {},
     "output_type": "execute_result"
    }
   ],
   "source": [
    "p"
   ]
  },
  {
   "cell_type": "code",
   "execution_count": 43,
   "id": "045448cf",
   "metadata": {},
   "outputs": [],
   "source": [
    "def is_prime_with_counting(n):\n",
    "    isprime = True              # True or False\n",
    "    numbers_checked = 0\n",
    "    \n",
    "    for number in range(2,n-1): # Check all the numbers\n",
    "        numbers_checked = numbers_checked + 1\n",
    "        \n",
    "        x = n % number\n",
    "        if x == 0:              # If you find a divisior => not prime\n",
    "            isprime = False\n",
    "            break  \n",
    "    print(\"Numbers Checked:\",numbers_checked)\n",
    "    return isprime              # If you are done checking => prime"
   ]
  },
  {
   "cell_type": "code",
   "execution_count": 47,
   "id": "e5bed7b9",
   "metadata": {},
   "outputs": [
    {
     "name": "stdout",
     "output_type": "stream",
     "text": [
      "Numbers Checked: 46\n"
     ]
    },
    {
     "data": {
      "text/plain": [
       "False"
      ]
     },
     "execution_count": 47,
     "metadata": {},
     "output_type": "execute_result"
    }
   ],
   "source": [
    "is_prime_with_counting(47*53)"
   ]
  },
  {
   "cell_type": "code",
   "execution_count": null,
   "id": "b2a99e74",
   "metadata": {},
   "outputs": [],
   "source": [
    "primes = [2]\n",
    "for number in range(3,n):\n",
    "    isprime = True\n",
    "    for prime in primes:                 # For loop that checks all the already known primes\n",
    "        if is_divisible(number,prime):\n",
    "            isprime = False              # If I find a prime that divides it => NOT PRIME\n",
    "            break\n",
    "                \n",
    "        # When done if the variable isprime is True, this means it did not go into the previous if\n",
    "    if isprime:\n",
    "        primes.append(number)"
   ]
  },
  {
   "cell_type": "code",
   "execution_count": null,
   "id": "20b71e58",
   "metadata": {},
   "outputs": [],
   "source": [
    "number = 3\n",
    "for prime in [2]:\n",
    "    isprime = True\n",
    "    prime = 2\n",
    "    if is_div(3,2) -> False\n",
    "if True:\n",
    "    primes.append(3)   -> primes = [2,3]\n",
    "\n",
    "number = 4\n",
    "for prime in [2,3]:\n",
    "    isprime = True\n",
    "    prime = 2\n",
    "    if is_div(4,2) -> True\n",
    "        isprime = False\n",
    "        break\n",
    "if False:\n",
    "    \n",
    "number = 5"
   ]
  },
  {
   "cell_type": "code",
   "execution_count": null,
   "id": "0ef7d5c7",
   "metadata": {},
   "outputs": [],
   "source": [
    "''' \n",
    "    for loops -> range \n",
    "    nested for loops\n",
    "    conditions for exiting for loops: break (continue)\n",
    "    \n",
    "    if condition:\n",
    "        Some code to execute \n",
    "    \n",
    "'''"
   ]
  },
  {
   "cell_type": "code",
   "execution_count": null,
   "id": "315c6ca7",
   "metadata": {},
   "outputs": [],
   "source": []
  }
 ],
 "metadata": {
  "kernelspec": {
   "display_name": "Python 3 (ipykernel)",
   "language": "python",
   "name": "python3"
  },
  "language_info": {
   "codemirror_mode": {
    "name": "ipython",
    "version": 3
   },
   "file_extension": ".py",
   "mimetype": "text/x-python",
   "name": "python",
   "nbconvert_exporter": "python",
   "pygments_lexer": "ipython3",
   "version": "3.9.12"
  }
 },
 "nbformat": 4,
 "nbformat_minor": 5
}
