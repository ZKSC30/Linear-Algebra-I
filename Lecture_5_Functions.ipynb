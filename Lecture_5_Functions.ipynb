{
 "cells": [
  {
   "cell_type": "code",
   "execution_count": 1,
   "id": "cfb4e91f",
   "metadata": {},
   "outputs": [],
   "source": [
    "import numpy as np"
   ]
  },
  {
   "cell_type": "markdown",
   "id": "7abcbf84",
   "metadata": {},
   "source": [
    "# How to build a function?\n",
    "\n",
    "In general there is no formula for how to build a function, however the following scheme can serve as a rought template for building functions.\n",
    "\n",
    "<ol>\n",
    "    <li> Define the goal of the function\n",
    "    <li> Identify the necessary data for achieving the desired goal\n",
    "    <li> Write a small code snippet that performs the desired task, using actual data\n",
    "    <li> Abtract on the data, use variables (abstract data) instead of actual data\n",
    "    <li> Package into a function\n",
    "</ol>"
   ]
  },
  {
   "cell_type": "markdown",
   "id": "7da2b6da",
   "metadata": {},
   "source": [
    "## Example 1: Let's build a function that determines if two vectors are parallel"
   ]
  },
  {
   "cell_type": "code",
   "execution_count": 6,
   "id": "74b492ee",
   "metadata": {},
   "outputs": [],
   "source": [
    "''' Step 2: Identify the data -> Two vectors '''\n",
    "v1 = np.array([2,4])\n",
    "v2 = np.array([4,8])"
   ]
  },
  {
   "cell_type": "code",
   "execution_count": 7,
   "id": "7d36794a",
   "metadata": {},
   "outputs": [
    {
     "name": "stdout",
     "output_type": "stream",
     "text": [
      "They are linearly dependent, parallel\n"
     ]
    }
   ],
   "source": [
    "''' Step 3 & 4: Write some code that solves the problem for some actual data '''\n",
    "\n",
    "''' Is there a scalar r such that v1 - r*v2 = [ v1_x - r* v2_x, v1_y - r * v2_y ] =  [0,0] '''\n",
    "\n",
    "''' From the first  r = v1_x/v2_x '''\n",
    "''' From the second r = v1_y/v2_y '''\n",
    "\n",
    "if v1[0]/v2[0] == v1[1]/v2[1]: # v1_x/v2_x == v1_y/v2_y\n",
    "    print(\"They are linearly dependent, parallel\")\n",
    "else:\n",
    "    print(\"They are not parallel\")"
   ]
  },
  {
   "cell_type": "code",
   "execution_count": 8,
   "id": "04951cb6",
   "metadata": {},
   "outputs": [],
   "source": [
    "''' Step 5: Package into a function '''\n",
    "\n",
    "''' \n",
    "    Boolean Variables: True or False \n",
    "    \n",
    "    True and False = False\n",
    "    \n",
    "\n",
    "\n",
    "'''\n",
    "\n",
    "def are_parallel(v1,v2):\n",
    "    if v1[0]/v2[0] == v1[1]/v2[1]:  # v1_x/v2_x == v1_y/v2_y\n",
    "        return True\n",
    "    else:\n",
    "        return False"
   ]
  },
  {
   "cell_type": "code",
   "execution_count": 13,
   "id": "e98c1bce",
   "metadata": {},
   "outputs": [
    {
     "data": {
      "text/plain": [
       "True"
      ]
     },
     "execution_count": 13,
     "metadata": {},
     "output_type": "execute_result"
    }
   ],
   "source": [
    "are_parallel(v1+4*v2,v2) # v2 = 2*v1   ==> v1+4v2 = 9v1  which is parallel to v2=2v1"
   ]
  },
  {
   "cell_type": "code",
   "execution_count": 20,
   "id": "32dc21dc",
   "metadata": {},
   "outputs": [
    {
     "name": "stdout",
     "output_type": "stream",
     "text": [
      "They are not parallel\n"
     ]
    }
   ],
   "source": [
    "''' 3D Case '''\n",
    "\n",
    "''' Is there a scalar r such that:\n",
    "\n",
    "    v1 - r*v2 = [ v1_x - r * v2_x, \n",
    "                  v1_y - r * v2_y,\n",
    "                  v1_z - r * v2_z] =  [0,0,0] \n",
    "    \n",
    "'''\n",
    "\n",
    "v1 = np.array([1,2,4])\n",
    "v2 = np.array([2,5,9])\n",
    "\n",
    "\n",
    "''' From the first  r = v1_x/v2_x '''\n",
    "''' From the second r = v1_y/v2_y '''\n",
    "''' From the third  r = v1_z/v2_z '''\n",
    "\n",
    "if (v1[0]/v2[0]==v1[1]/v2[1]) and (v1[1]/v2[1]==v1[2]/v2[2]):\n",
    "    print(\"They are parallel\")\n",
    "else:\n",
    "    print(\"They are not parallel\")"
   ]
  },
  {
   "cell_type": "code",
   "execution_count": 15,
   "id": "ae0dd921",
   "metadata": {},
   "outputs": [
    {
     "data": {
      "text/plain": [
       "True"
      ]
     },
     "execution_count": 15,
     "metadata": {},
     "output_type": "execute_result"
    }
   ],
   "source": [
    "(v1[0]/v2[0]==v1[1]/v2[1]) # this is the answer to the question in paranthesis"
   ]
  },
  {
   "cell_type": "code",
   "execution_count": null,
   "id": "2bcac8ad",
   "metadata": {},
   "outputs": [],
   "source": []
  }
 ],
 "metadata": {
  "kernelspec": {
   "display_name": "Python 3 (ipykernel)",
   "language": "python",
   "name": "python3"
  },
  "language_info": {
   "codemirror_mode": {
    "name": "ipython",
    "version": 3
   },
   "file_extension": ".py",
   "mimetype": "text/x-python",
   "name": "python",
   "nbconvert_exporter": "python",
   "pygments_lexer": "ipython3",
   "version": "3.9.12"
  }
 },
 "nbformat": 4,
 "nbformat_minor": 5
}
