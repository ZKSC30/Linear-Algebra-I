{
 "cells": [
  {
   "cell_type": "markdown",
   "id": "2541e618",
   "metadata": {},
   "source": [
    "# Code Assignment #2"
   ]
  },
  {
   "cell_type": "code",
   "execution_count": null,
   "id": "2a273723",
   "metadata": {},
   "outputs": [],
   "source": [
    "import numpy as np"
   ]
  },
  {
   "cell_type": "markdown",
   "id": "d9d7c465",
   "metadata": {},
   "source": [
    "## Problem 1\n",
    "\n",
    "We say that two vectors $u,v$ are orthogonal if:\n",
    "\n",
    "$$u\\cdot v = 0$$\n",
    "\n",
    "and more generally we say that a set $\\{u_1,u_2,\\dots,u_n\\}$ is orthogonal if all pairwise inner products vanish:\n",
    "\n",
    "$$u_i\\cdot u_j = 0, \\text{  if  } i\\neq j.$$\n",
    "\n",
    "In python (and in programming language more broadly) there exists a variable type that represents the answer to yes or no questions, these variables are called $\\texttt{boolean}$ variables and can only have one of two values: $\\texttt{True}$ or $\\texttt{False}$. In python to ask questions one can use comparisson operators to comapre numbers and get the answer as a $\\texttt{boolean}$ value:\n",
    "<ul>\n",
    "    <li> $=\\rightarrow$ ==  </li>\n",
    "    <li> $\\neq\\rightarrow$ !=  </li>\n",
    "    <li> $\\gt\\rightarrow$ >  </li>\n",
    "    <li> $\\lt\\rightarrow$ <  </li>\n",
    "    <li> $\\ge\\rightarrow$ >=  </li>\n",
    "    <li> $\\le\\rightarrow$ <=  </li>\n",
    "</ul>\n",
    "for instance the following code computes the inner product between two vectors and checks if it is zero"
   ]
  },
  {
   "cell_type": "code",
   "execution_count": null,
   "id": "92efd091",
   "metadata": {},
   "outputs": [],
   "source": [
    "vec_1 = np.array([-1,2,1])\n",
    "vec_2 = np.array([3,-6,3])\n",
    "\n",
    "(vec_1 @ vec_2) == 0"
   ]
  },
  {
   "cell_type": "markdown",
   "id": "e1028517",
   "metadata": {},
   "source": [
    "### a) Complete the following function to determine if two vectors are orthogoal"
   ]
  },
  {
   "cell_type": "code",
   "execution_count": null,
   "id": "02502eec",
   "metadata": {},
   "outputs": [],
   "source": [
    "def are_orthogonal_2(u,v):\n",
    "    \n",
    "    \"\"\" \n",
    "        u,v : np.array the two vectors to determine to check if are orthogonal\n",
    "        \n",
    "        This method returns 'True' if the two vectors are orthogonal (if the inner product is zero)\n",
    "        or 'False' if they are not orthogonal (if the inner product is not zero)\n",
    "    \n",
    "    \"\"\"\n",
    "    \n",
    "    are_uv_orthogonal = True\n",
    "    \n",
    "    # YOUR CODE GOES HERE\n",
    "    \n",
    "    return are_uv_orthogonal"
   ]
  },
  {
   "cell_type": "markdown",
   "id": "66065b30",
   "metadata": {},
   "source": [
    "If we want to accumulate the answer to multiple questions we can do so by using the $\\texttt{and}$ and $\\texttt{or}$\n",
    "operators. $\\texttt{and}$ when applied to two questions returns $\\texttt{True}$ if both the first AND the second answer are $\\texttt{True}$, similarly $\\texttt{or}$ when applied to two questions returns $\\texttt{True}$ if either the first OR the second answer is $\\texttt{True}$.\n",
    "\n",
    "For instance the following code checks if the number $n$ is between $2$ and $7$, i.e. both $n>2$ and $n<7$ are true:"
   ]
  },
  {
   "cell_type": "code",
   "execution_count": null,
   "id": "b5a6f9fa",
   "metadata": {},
   "outputs": [],
   "source": [
    "n = 33\n",
    "print( (n>2) and (n<7) )"
   ]
  },
  {
   "cell_type": "markdown",
   "id": "c712a3b7",
   "metadata": {},
   "source": [
    "similarly the following code checks if $n$ is bigger than $13$ or smaller than $3$:"
   ]
  },
  {
   "cell_type": "code",
   "execution_count": null,
   "id": "9195cf39",
   "metadata": {},
   "outputs": [],
   "source": [
    "print( (n>13) or (n<3) )"
   ]
  },
  {
   "cell_type": "markdown",
   "id": "71f6e4c9",
   "metadata": {},
   "source": [
    "### b) Complete the following function to determine if two vectors are orthogoal"
   ]
  },
  {
   "cell_type": "code",
   "execution_count": null,
   "id": "a57898a9",
   "metadata": {},
   "outputs": [],
   "source": [
    "def are_orthogonal_3(u,v,w):\n",
    "    \n",
    "    \"\"\" \n",
    "        u,v,w : np.array the three vectors to determine to check if are orthogonal\n",
    "        \n",
    "        This method returns 'True' if the three vectors are orthogonal or 'False' if they are not.\n",
    "    \n",
    "    \"\"\"\n",
    "    \n",
    "    are_uw_orthogonal = True\n",
    "    are_uv_orthogonal = True\n",
    "    are_vw_orthogonal = True\n",
    "\n",
    "    is_uvw_orthogonal = True\n",
    "    \n",
    "    # YOUR CODE GOES HERE\n",
    "    \n",
    "    return is_uvw_orthogonal"
   ]
  },
  {
   "cell_type": "markdown",
   "id": "b596c63d",
   "metadata": {},
   "source": [
    "### <b>[Hint:</b> A set of three vectors $u,v,w$ is orthogonal if $u\\cdot v=0$ and $v \\cdot w = 0$ and $v\\cdot w=0$<b>]</b>"
   ]
  },
  {
   "cell_type": "markdown",
   "id": "f4996c6a",
   "metadata": {},
   "source": [
    "## Problem 2\n",
    "\n",
    "Recall that given two vectors $u$ and $v$ the GS procedure generates two new vectors $u'$ and $v'$, such that:\n",
    "<ol>\n",
    "    <li>span($u$,$v$) = span($u'$,$v'$) </li>\n",
    "    <li>$u'\\cdot v'=0$ </li>\n",
    "</ol>\n",
    "One way to build $u'$ and $v'$ is to do:\n",
    "<ul>\n",
    "    <li>$u'=u$ </li>\n",
    "    <li>$v'=v - P_{u'}(v)  = v - \\left(\\frac{u'\\cdot v}{u'\\cdot u'}\\right)u'$\n",
    "</ul>\n",
    "\n",
    "### a) Complete the following function to perform the GS procedure on two vectors"
   ]
  },
  {
   "cell_type": "code",
   "execution_count": null,
   "id": "7015e2f2",
   "metadata": {},
   "outputs": [],
   "source": [
    "def gram_schmidt_2(u,v):\n",
    "    \n",
    "    \n",
    "    \"\"\"\n",
    "        u,v : np.array representing the two vectors to be used in the GS procedure\n",
    "        \n",
    "        This method returns the u' and v'.\n",
    "    \n",
    "    \"\"\"\n",
    "    \n",
    "    u_prime = u\n",
    "    v_prime = v\n",
    "    \n",
    "    # YOUR CODE GOES HERE\n",
    "    \n",
    "    return u_prime,v_prime"
   ]
  },
  {
   "cell_type": "markdown",
   "id": "d949c7c1",
   "metadata": {},
   "source": [
    "If instead of two vectors we have three vectors the procedure is very similar, given $u$, $v$, and $w$ the GS procedure would assing: \n",
    "<ul>\n",
    "    <li>$u'=u$ </li>\n",
    "    <li>$v'=v - \\left(\\frac{u'\\cdot v}{u'\\cdot u'}\\right)u'$</li>\n",
    "    <li>$w'=w - \\left(\\frac{u'\\cdot w}{u'\\cdot u'}\\right)u'-\\left(\\frac{v'\\cdot w}{v'\\cdot v'}\\right)v'$</li>\n",
    "</ul>\n",
    "\n",
    "### b) Complete the following function to perform the GS procedure on three vectors"
   ]
  },
  {
   "cell_type": "code",
   "execution_count": null,
   "id": "ad8177fb",
   "metadata": {},
   "outputs": [],
   "source": [
    "def gram_schmidt_3(u,v,w):\n",
    "    \n",
    "    \n",
    "    \"\"\"\n",
    "        u,v,w : np.array representing the three vectors to be used in the GS procedure\n",
    "        \n",
    "        This method returns the u',v', and w'.\n",
    "    \n",
    "    \"\"\"\n",
    "    \n",
    "    u_prime = u\n",
    "    v_prime = v\n",
    "    w_prime = w\n",
    "    \n",
    "    # YOUR CODE GOES HERE\n",
    "    \n",
    "    return u_prime,v_prime,w_prime"
   ]
  }
 ],
 "metadata": {
  "kernelspec": {
   "display_name": "Python 3 (ipykernel)",
   "language": "python",
   "name": "python3"
  },
  "language_info": {
   "codemirror_mode": {
    "name": "ipython",
    "version": 3
   },
   "file_extension": ".py",
   "mimetype": "text/x-python",
   "name": "python",
   "nbconvert_exporter": "python",
   "pygments_lexer": "ipython3",
   "version": "3.11.5"
  }
 },
 "nbformat": 4,
 "nbformat_minor": 5
}
