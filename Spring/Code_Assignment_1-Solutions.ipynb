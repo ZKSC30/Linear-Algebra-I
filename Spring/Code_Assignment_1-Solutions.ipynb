{
 "cells": [
  {
   "cell_type": "code",
   "execution_count": 3,
   "id": "305c6b08",
   "metadata": {},
   "outputs": [],
   "source": [
    "import numpy as np"
   ]
  },
  {
   "cell_type": "markdown",
   "id": "7a75bff5",
   "metadata": {},
   "source": [
    "# Code Assignment 1\n",
    "\n",
    "In python one way to access mathematical functions is to use the <a href=\"https://docs.python.org/3/library/math.html\">math</a> module:"
   ]
  },
  {
   "cell_type": "code",
   "execution_count": 4,
   "id": "e22b9983",
   "metadata": {},
   "outputs": [],
   "source": [
    "import math"
   ]
  },
  {
   "cell_type": "markdown",
   "id": "f7d36d94",
   "metadata": {},
   "source": [
    "For instance the trigonometric functions can be accessed via <b>math.function_name</b>, for example:"
   ]
  },
  {
   "cell_type": "code",
   "execution_count": 5,
   "id": "2b25267f",
   "metadata": {},
   "outputs": [
    {
     "data": {
      "text/plain": [
       "0.8509035245341184"
      ]
     },
     "execution_count": 5,
     "metadata": {},
     "output_type": "execute_result"
    }
   ],
   "source": [
    "math.sin(45)"
   ]
  },
  {
   "cell_type": "markdown",
   "id": "7c7a21b0",
   "metadata": {},
   "source": [
    "Returns the sine of $45$ radians. \n",
    "\n",
    "The default in the math library is to use radians both for trigonometric functions as well as for inverse trigonometric functions, for example:"
   ]
  },
  {
   "cell_type": "code",
   "execution_count": 6,
   "id": "a4557e61",
   "metadata": {},
   "outputs": [
    {
     "data": {
      "text/plain": [
       "1.0471975511965976"
      ]
     },
     "execution_count": 6,
     "metadata": {},
     "output_type": "execute_result"
    }
   ],
   "source": [
    "math.acos(1/2)"
   ]
  },
  {
   "cell_type": "markdown",
   "id": "d38c8c3c",
   "metadata": {},
   "source": [
    "returns $\\pi/3$ which is equivalent to $60^\\circ$, recall that the conversion between angles and radians is:\n",
    "\n",
    "$\\pi\\text{ radians } = 180^\\circ.$\n",
    "\n",
    "Here: <a href=\"https://docs.python.org/3/library/math.html\">math</a> you'll find a list of all functions included in the library.\n",
    "\n",
    "## Modify the code below to behave in the desired manner\n",
    "\n",
    "<ol>\n",
    "    <li> Write a python function that takes an angle in degrees and returns the angle in radians.</li>\n",
    "    <li> Write a python function that takes an angle in radians and returns the angle in degrees.</li>\n",
    "    <li> Write a function that takes the cosine of an angle and returns the angle in degrees. </li>\n",
    "</ol>"
   ]
  },
  {
   "cell_type": "code",
   "execution_count": 20,
   "id": "78c21faf",
   "metadata": {},
   "outputs": [
    {
     "data": {
      "text/plain": [
       "0.7853981633974483"
      ]
     },
     "execution_count": 20,
     "metadata": {},
     "output_type": "execute_result"
    }
   ],
   "source": [
    "x = 45\n",
    "def degrees_to_radians(x):\n",
    "    \n",
    "    \"\"\" \n",
    "        angle : (numerical) angle measured in radians\n",
    "        \n",
    "        This function computes the corresponding measure in \n",
    "        degrees and returns it.\n",
    "    \n",
    "    \"\"\"\n",
    "\n",
    "    angle = x*((math.pi)/180)\n",
    "    return angle\n",
    "degrees_to_radians(x)"
   ]
  },
  {
   "cell_type": "code",
   "execution_count": 21,
   "id": "7446fa2c",
   "metadata": {},
   "outputs": [
    {
     "data": {
      "text/plain": [
       "180.0"
      ]
     },
     "execution_count": 21,
     "metadata": {},
     "output_type": "execute_result"
    }
   ],
   "source": [
    "x = math.pi\n",
    "def radians_to_degrees(x):\n",
    "    \n",
    "    \"\"\" \n",
    "        angle : (numerical) angle measured in degrees\n",
    "        \n",
    "        This function computes the corresponding measure in \n",
    "        radians and returns it.\n",
    "    \n",
    "    \"\"\"\n",
    "    \n",
    "    angle = x*(180/(math.pi))\n",
    "    return angle\n",
    "radians_to_degrees(x)"
   ]
  },
  {
   "cell_type": "code",
   "execution_count": 37,
   "id": "2dc67e0b",
   "metadata": {},
   "outputs": [
    {
     "data": {
      "text/plain": [
       "59.99999999999999"
      ]
     },
     "execution_count": 37,
     "metadata": {},
     "output_type": "execute_result"
    }
   ],
   "source": [
    "x = 0.5\n",
    "def acos_in_degrees(cos_angle):\n",
    "    \"\"\" \n",
    "        cos_angle : (numerical) cosine of the angle\n",
    "        \n",
    "        This function computes the arccosine of the given cosine\n",
    "        and returns the value of the angle in degrees.\n",
    "        \n",
    "    \"\"\"\n",
    "    angle_rad = math.acos(cos_angle)\n",
    "    angle_deg = radians_to_degrees(angle_rad)\n",
    "   \n",
    "\n",
    "    \n",
    "    return angle_deg\n",
    "acos_in_degrees(x)"
   ]
  },
  {
   "cell_type": "markdown",
   "id": "46f8d94b",
   "metadata": {},
   "source": [
    "Recall that the inner product between two vectors is related to the cosine of the angle between the two vectors and the norm of both vectors:\n",
    "\n",
    "$\\mathcal{u\\cdot v} = ||u|| \\cdot ||v|| \\cdot \\cos(\\theta_{uv})$,\n",
    "\n",
    "recall also that the norm of a vector can be computed out of the inner product of the vector with itself:\n",
    "\n",
    "$||u|| = \\sqrt{u\\cdot u}$.\n",
    "\n",
    "The syntax for the inner product of vectors in python is:"
   ]
  },
  {
   "cell_type": "code",
   "execution_count": 38,
   "id": "c5a449e3",
   "metadata": {},
   "outputs": [
    {
     "data": {
      "text/plain": [
       "2"
      ]
     },
     "execution_count": 38,
     "metadata": {},
     "output_type": "execute_result"
    }
   ],
   "source": [
    "vec_1 = np.array([-1,2,1])\n",
    "vec_2 = np.array([1,1,1])\n",
    "\n",
    "vec_1 @ vec_2"
   ]
  },
  {
   "cell_type": "markdown",
   "id": "b66d8c8d",
   "metadata": {},
   "source": [
    "this corresponds to the inner product between vec_1 and vec_2."
   ]
  },
  {
   "cell_type": "markdown",
   "id": "b9429345",
   "metadata": {},
   "source": [
    "\n",
    "## Modify the code below to behave in the desired manner\n",
    "\n",
    "<ol>\n",
    "    <li> Write a function that takes a vector and returns its norm. </li>\n",
    "    <li> Write a function that takes two vectors and returns the measure of the angle between them in degrees.</li>\n",
    "</ol>"
   ]
  },
  {
   "cell_type": "code",
   "execution_count": 39,
   "id": "e55f326a",
   "metadata": {},
   "outputs": [
    {
     "data": {
      "text/plain": [
       "3.3166247903554"
      ]
     },
     "execution_count": 39,
     "metadata": {},
     "output_type": "execute_result"
    }
   ],
   "source": [
    "def norm(vector):\n",
    "    \"\"\" \n",
    "        vector : (np.array) vector for which the norm will be computed\n",
    "        \n",
    "        This function computes the norm of a vector, it uses the fact\n",
    "        that the norm is the squared root (math.sqrt) of the inner \n",
    "        product of the vector with itself.\n",
    "        \n",
    "    \"\"\"\n",
    "    \n",
    "    vector_norm = math.sqrt(vector @ vector)\n",
    "    \n",
    "    return vector_norm\n",
    "norm(np.array([-3,1,1]))"
   ]
  },
  {
   "cell_type": "code",
   "execution_count": 41,
   "id": "1d67361d",
   "metadata": {},
   "outputs": [],
   "source": [
    "def angle_between_vectors(vector_1,vector_2):\n",
    "    \"\"\" \n",
    "        vector_1 : First vector\n",
    "        vector_2 : Second vector\n",
    "        \n",
    "        This function uses the inner product between the two vectors \n",
    "        to compute the angle between the two vectors.\n",
    "    \n",
    "    \"\"\"\n",
    "    inner_product = vector_1 @ vector_2\n",
    "    cos_angle = inner_product/(norm(vector_1)*norm(vector_2))\n",
    "    angle_rad = acos_in_degrees(cos_angle)\n",
    "    \n",
    "    return angle_rad\n"
   ]
  },
  {
   "cell_type": "code",
   "execution_count": 42,
   "id": "ebe4876f",
   "metadata": {},
   "outputs": [
    {
     "data": {
      "text/plain": [
       "61.87449429794429"
      ]
     },
     "execution_count": 42,
     "metadata": {},
     "output_type": "execute_result"
    }
   ],
   "source": [
    "angle_between_vectors(vec_1,vec_2)"
   ]
  },
  {
   "cell_type": "code",
   "execution_count": null,
   "id": "7ff23dff",
   "metadata": {},
   "outputs": [],
   "source": []
  }
 ],
 "metadata": {
  "kernelspec": {
   "display_name": "Python 3 (ipykernel)",
   "language": "python",
   "name": "python3"
  },
  "language_info": {
   "codemirror_mode": {
    "name": "ipython",
    "version": 3
   },
   "file_extension": ".py",
   "mimetype": "text/x-python",
   "name": "python",
   "nbconvert_exporter": "python",
   "pygments_lexer": "ipython3",
   "version": "3.11.4"
  }
 },
 "nbformat": 4,
 "nbformat_minor": 5
}
