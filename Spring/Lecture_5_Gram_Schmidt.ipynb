{
 "cells": [
  {
   "cell_type": "code",
   "execution_count": 1,
   "id": "308eb7bc",
   "metadata": {},
   "outputs": [],
   "source": [
    "import numpy as np"
   ]
  },
  {
   "cell_type": "code",
   "execution_count": 2,
   "id": "37ad4a18",
   "metadata": {},
   "outputs": [],
   "source": [
    "v1 = np.array([1,4,-7])\n",
    "v2 = np.array([0,-3,-1])\n",
    "v3 = np.array([5,0,1])"
   ]
  },
  {
   "cell_type": "code",
   "execution_count": 3,
   "id": "b68e5572",
   "metadata": {},
   "outputs": [],
   "source": [
    "\"\"\" We want a function that takes the three vectors v1,v2,v3 and returns an orthogonal set \"\"\"\n",
    "\n",
    "def orthogonalize(w1,w2,w3): # \":\" marks the beginning of a scope\n",
    "    w1p = w1\n",
    "    \n",
    "    \"\"\" \n",
    "        Subtract from v2 the piece that is parallel to v1p \n",
    "        \n",
    "        v1 . v2  ----> v1 @ v2\n",
    "    \n",
    "    \"\"\"\n",
    "    w2p = w2 - ((w2 @ w1p)/(w1p @ w1p))*w1p\n",
    "    \n",
    "    w3p = w3 - ((w3 @ w1p)/(w1p @ w1p))*w1p - ((w3 @ w2p)/(w2p @ w2p))*w2p\n",
    "    \n",
    "    return w1p,w2p,w3p"
   ]
  },
  {
   "cell_type": "code",
   "execution_count": 4,
   "id": "c9e5ea16",
   "metadata": {},
   "outputs": [],
   "source": [
    "z1p,z2p,z3p = orthogonalize(v1,v2,v3)"
   ]
  },
  {
   "cell_type": "code",
   "execution_count": 5,
   "id": "9f96fb3f",
   "metadata": {},
   "outputs": [
    {
     "data": {
      "text/plain": [
       "(array([ 1,  4, -7]),\n",
       " array([ 0.07575758, -2.6969697 , -1.53030303]),\n",
       " array([ 5.03937008, -0.2015748 ,  0.60472441]))"
      ]
     },
     "execution_count": 5,
     "metadata": {},
     "output_type": "execute_result"
    }
   ],
   "source": [
    "z1p,z2p,z3p"
   ]
  },
  {
   "cell_type": "code",
   "execution_count": 8,
   "id": "30bcb349",
   "metadata": {},
   "outputs": [
    {
     "name": "stdout",
     "output_type": "stream",
     "text": [
      "z1p . z2p = 0.0\n",
      "z2p . z3p = 1.1102230246251565e-16\n",
      "z3p . z1p = 0.0\n"
     ]
    }
   ],
   "source": [
    "print(\"z1p . z2p =\",z1p @ z2p)\n",
    "print(\"z2p . z3p =\",z2p @ z3p)\n",
    "print(\"z3p . z1p =\",z3p @ z1p)"
   ]
  },
  {
   "cell_type": "code",
   "execution_count": null,
   "id": "6e39e9cb",
   "metadata": {},
   "outputs": [],
   "source": [
    "0.00000000000000011102"
   ]
  },
  {
   "cell_type": "code",
   "execution_count": 10,
   "id": "22c80ee9",
   "metadata": {},
   "outputs": [
    {
     "name": "stdout",
     "output_type": "stream",
     "text": [
      "v1 . v2 = -5\n",
      "v2 . v3 = -1\n",
      "v3 . v1 = -2\n"
     ]
    }
   ],
   "source": [
    "print(\"v1 . v2 =\",v1@v2)\n",
    "print(\"v2 . v3 =\",v2@v3)\n",
    "print(\"v3 . v1 =\",v3@v1)"
   ]
  },
  {
   "cell_type": "code",
   "execution_count": 15,
   "id": "72173654",
   "metadata": {},
   "outputs": [],
   "source": [
    "w1p,w2p,w3p = orthogonalize(v1,v2,3*v1-7*v2+np.array([0.5,0.5,0.5]))"
   ]
  },
  {
   "cell_type": "code",
   "execution_count": 16,
   "id": "f323d4ea",
   "metadata": {},
   "outputs": [
    {
     "data": {
      "text/plain": [
       "array([ 0.53149606, -0.02125984,  0.06377953])"
      ]
     },
     "execution_count": 16,
     "metadata": {},
     "output_type": "execute_result"
    }
   ],
   "source": [
    "w3p"
   ]
  },
  {
   "cell_type": "code",
   "execution_count": 14,
   "id": "b66941e8",
   "metadata": {},
   "outputs": [
    {
     "data": {
      "text/plain": [
       "array([ 0.07575758, -2.6969697 , -1.53030303])"
      ]
     },
     "execution_count": 14,
     "metadata": {},
     "output_type": "execute_result"
    }
   ],
   "source": [
    "w2p"
   ]
  },
  {
   "cell_type": "code",
   "execution_count": null,
   "id": "8ca8b4cf",
   "metadata": {},
   "outputs": [],
   "source": []
  }
 ],
 "metadata": {
  "kernelspec": {
   "display_name": "Python 3 (ipykernel)",
   "language": "python",
   "name": "python3"
  },
  "language_info": {
   "codemirror_mode": {
    "name": "ipython",
    "version": 3
   },
   "file_extension": ".py",
   "mimetype": "text/x-python",
   "name": "python",
   "nbconvert_exporter": "python",
   "pygments_lexer": "ipython3",
   "version": "3.11.5"
  }
 },
 "nbformat": 4,
 "nbformat_minor": 5
}
