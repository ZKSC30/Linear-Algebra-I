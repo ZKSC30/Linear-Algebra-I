{
 "cells": [
  {
   "cell_type": "code",
   "execution_count": 1,
   "id": "142cff2e",
   "metadata": {},
   "outputs": [],
   "source": [
    "import numpy as np"
   ]
  },
  {
   "cell_type": "code",
   "execution_count": 44,
   "id": "46c1c266",
   "metadata": {},
   "outputs": [],
   "source": [
    "b1 = np.array([1+2j,3-1j])\n",
    "b2 = np.array([2,1+1j])\n",
    "v  = 1j * b1 - 2 * b2"
   ]
  },
  {
   "cell_type": "code",
   "execution_count": 4,
   "id": "c7975fbf",
   "metadata": {},
   "outputs": [],
   "source": [
    "conjugate = lambda z : z.real - z.imag *1j"
   ]
  },
  {
   "cell_type": "code",
   "execution_count": 24,
   "id": "6ec2b92f",
   "metadata": {},
   "outputs": [],
   "source": [
    "def inner_prod(v1,v2):\n",
    "    ''' Define an accumulator '''\n",
    "    rval = 0\n",
    "    for i in range(len(v1)):\n",
    "        ''' Add each summad '''\n",
    "        rval += v1[i]*conjugate(v2[i])\n",
    "    ''' Return the net result '''\n",
    "    return rval"
   ]
  },
  {
   "cell_type": "code",
   "execution_count": 29,
   "id": "5b2126db",
   "metadata": {},
   "outputs": [
    {
     "name": "stdout",
     "output_type": "stream",
     "text": [
      "(4+0j)\n"
     ]
    }
   ],
   "source": [
    "print(inner_prod(b1,b2))"
   ]
  },
  {
   "cell_type": "code",
   "execution_count": 31,
   "id": "74e43536",
   "metadata": {},
   "outputs": [
    {
     "name": "stdout",
     "output_type": "stream",
     "text": [
      "(6+0j)\n"
     ]
    }
   ],
   "source": [
    "print(inner_prod(b2,b2))"
   ]
  },
  {
   "cell_type": "code",
   "execution_count": 47,
   "id": "435df23a",
   "metadata": {},
   "outputs": [],
   "source": [
    "def orthogonalize(v1,v2):\n",
    "    v1p = v1\n",
    "    v2p = v2 - (inner_prod(v2,v1p)/inner_prod(v1p,v1p))*v1p\n",
    "    return v1p,v2p"
   ]
  },
  {
   "cell_type": "code",
   "execution_count": 48,
   "id": "14d58172",
   "metadata": {},
   "outputs": [],
   "source": [
    "b1p,b2p = orthogonalize(b1,b2)"
   ]
  },
  {
   "cell_type": "code",
   "execution_count": 49,
   "id": "8a969c61",
   "metadata": {},
   "outputs": [],
   "source": [
    "alpha1 = inner_prod(b1p,v)/inner_prod(b1p,b1p)\n",
    "alpha2 = inner_prod(b2p,v)/inner_prod(b2p,b2p)"
   ]
  },
  {
   "cell_type": "code",
   "execution_count": 50,
   "id": "14507c7d",
   "metadata": {},
   "outputs": [
    {
     "name": "stdout",
     "output_type": "stream",
     "text": [
      "(-0.5333333333333333-1j)\n",
      "(-2+4.5009041538857694e-17j)\n"
     ]
    }
   ],
   "source": [
    "print(alpha1)\n",
    "print(alpha2)"
   ]
  },
  {
   "cell_type": "code",
   "execution_count": 51,
   "id": "5b01771c",
   "metadata": {},
   "outputs": [
    {
     "data": {
      "text/plain": [
       "(0.26666666666666666+0j)"
      ]
     },
     "execution_count": 51,
     "metadata": {},
     "output_type": "execute_result"
    }
   ],
   "source": [
    "(inner_prod(b1,b2)/inner_prod(b1,b1))"
   ]
  },
  {
   "cell_type": "markdown",
   "id": "1b83bbd0",
   "metadata": {},
   "source": [
    "$b1' = b1$\n",
    "\n",
    "$b2' = 1*b2-0.266666*b1$\n",
    "\n",
    "$v = (-0.5333333333333333-1j)*b1' + (-2+4.5009041538857694e-17j)*b2'$"
   ]
  },
  {
   "cell_type": "code",
   "execution_count": null,
   "id": "67b95e0b",
   "metadata": {},
   "outputs": [],
   "source": []
  }
 ],
 "metadata": {
  "kernelspec": {
   "display_name": "Python 3 (ipykernel)",
   "language": "python",
   "name": "python3"
  },
  "language_info": {
   "codemirror_mode": {
    "name": "ipython",
    "version": 3
   },
   "file_extension": ".py",
   "mimetype": "text/x-python",
   "name": "python",
   "nbconvert_exporter": "python",
   "pygments_lexer": "ipython3",
   "version": "3.11.5"
  }
 },
 "nbformat": 4,
 "nbformat_minor": 5
}
