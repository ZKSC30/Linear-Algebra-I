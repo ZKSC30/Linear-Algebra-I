{
 "cells": [
  {
   "cell_type": "code",
   "execution_count": 1,
   "id": "3e3bc9fd",
   "metadata": {},
   "outputs": [],
   "source": [
    "import numpy as np"
   ]
  },
  {
   "cell_type": "code",
   "execution_count": 2,
   "id": "3b1e0dc3",
   "metadata": {},
   "outputs": [],
   "source": [
    "''' Some vectors '''\n",
    "v1 = np.array([1,4])\n",
    "v2 = np.array([3,-1])"
   ]
  },
  {
   "cell_type": "code",
   "execution_count": 7,
   "id": "e1b1075a",
   "metadata": {},
   "outputs": [
    {
     "name": "stdout",
     "output_type": "stream",
     "text": [
      "[[2 6]\n",
      " [7 5]]\n"
     ]
    }
   ],
   "source": [
    "''' \n",
    "    Linear Maps (Matrix) \n",
    "    2D arrays -> arrays of arrays\n",
    "    row major language\n",
    "    \n",
    "    Row major notation (this is the default in python)\n",
    "    np.array([[2,6],[7,5]])\n",
    "    -> \n",
    "    ( 2 6 )\n",
    "    ( 7 5 )\n",
    "    \n",
    "    Column major notation (Fortran)\n",
    "    np.array([[2,6],[7,5]])\n",
    "    -> \n",
    "    ( 2 7 )\n",
    "    ( 6 5 )\n",
    "    \n",
    "'''\n",
    "\n",
    "''' f : R^2 -> R^2 '''\n",
    "f = np.array([[2,6],[7,5]])\n",
    "print(f)"
   ]
  },
  {
   "cell_type": "code",
   "execution_count": 8,
   "id": "16ea73e7",
   "metadata": {},
   "outputs": [
    {
     "name": "stdout",
     "output_type": "stream",
     "text": [
      "[[2 7]\n",
      " [6 5]]\n"
     ]
    }
   ],
   "source": [
    "''' Swap between notations '''\n",
    "f_cm = f.T\n",
    "print(f_cm)"
   ]
  },
  {
   "cell_type": "code",
   "execution_count": 10,
   "id": "6823f4c6",
   "metadata": {},
   "outputs": [
    {
     "name": "stdout",
     "output_type": "stream",
     "text": [
      "[26 27]\n"
     ]
    }
   ],
   "source": [
    "''' f (v1) \n",
    "    \n",
    "    Mat(f) . v1 \n",
    "    -> \n",
    "    f @ v1\n",
    "\n",
    "'''\n",
    "\n",
    "f_v1 = f @ v1\n",
    "print(f_v1)"
   ]
  },
  {
   "cell_type": "code",
   "execution_count": 12,
   "id": "7ef27f5f",
   "metadata": {},
   "outputs": [],
   "source": [
    "''' Another linear map '''\n",
    "\n",
    "'''\n",
    "    Mat(f)\n",
    "    -> \n",
    "    ( 2 7 )\n",
    "    ( 6 5 )\n",
    "    f : R^2 -> R^2 \n",
    "\n",
    "\n",
    "    Mat(g) = \n",
    "    ->\n",
    "    (3  5 )\n",
    "    (7  0 )\n",
    "    (-1 2 )\n",
    "    g : R^2 -> R^3\n",
    "    \n",
    "    f o g ? No\n",
    "    \n",
    "    g o f ? Yes\n",
    "    g o f : R^2 -> R^3\n",
    "    \n",
    "    f o f ? Yes \n",
    "    f o f : R^2 -> R^2\n",
    "    \n",
    "    g o g ? No\n",
    "\n",
    "''' \n",
    "g = np.array([[3,5],[7,0],[-1,2]])"
   ]
  },
  {
   "cell_type": "code",
   "execution_count": 13,
   "id": "db0ce697",
   "metadata": {},
   "outputs": [],
   "source": [
    "g_after_f = g @ f"
   ]
  },
  {
   "cell_type": "code",
   "execution_count": 17,
   "id": "7e9b3c68",
   "metadata": {},
   "outputs": [
    {
     "data": {
      "text/plain": [
       "(3, 2)"
      ]
     },
     "execution_count": 17,
     "metadata": {},
     "output_type": "execute_result"
    }
   ],
   "source": [
    "''' Ask python to tell you the shape of the matrix '''\n",
    "g_after_f.shape"
   ]
  },
  {
   "cell_type": "code",
   "execution_count": 19,
   "id": "599f32ff",
   "metadata": {},
   "outputs": [
    {
     "name": "stdout",
     "output_type": "stream",
     "text": [
      "[[ 3  5]\n",
      " [ 7  0]\n",
      " [-1  2]]\n",
      "[[41 43]\n",
      " [14 42]\n",
      " [12  4]]\n",
      "[[44 48]\n",
      " [21 42]\n",
      " [11  6]]\n"
     ]
    }
   ],
   "source": [
    "''' Addition: \n",
    "    they must have the same source and target \n",
    "    they have the same shape\n",
    "'''\n",
    "\n",
    "print(g)\n",
    "print(g_after_f)\n",
    "print(g + g_after_f)\n"
   ]
  },
  {
   "cell_type": "code",
   "execution_count": 20,
   "id": "4496f3f9",
   "metadata": {},
   "outputs": [
    {
     "name": "stdout",
     "output_type": "stream",
     "text": [
      "[[ 6 18]\n",
      " [21 15]]\n"
     ]
    }
   ],
   "source": [
    "print(3*f)"
   ]
  },
  {
   "cell_type": "code",
   "execution_count": null,
   "id": "7e89c3f7",
   "metadata": {},
   "outputs": [],
   "source": [
    "''' \n",
    "    L(R^2,R^5) ~ R^10 \n",
    "    \n",
    "    dim(L(U,V)) = dim(U) * dim(V)\n",
    "\n",
    "'''\n"
   ]
  }
 ],
 "metadata": {
  "kernelspec": {
   "display_name": "Python 3 (ipykernel)",
   "language": "python",
   "name": "python3"
  },
  "language_info": {
   "codemirror_mode": {
    "name": "ipython",
    "version": 3
   },
   "file_extension": ".py",
   "mimetype": "text/x-python",
   "name": "python",
   "nbconvert_exporter": "python",
   "pygments_lexer": "ipython3",
   "version": "3.9.12"
  }
 },
 "nbformat": 4,
 "nbformat_minor": 5
}
