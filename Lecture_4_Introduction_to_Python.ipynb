{
 "cells": [
  {
   "cell_type": "code",
   "execution_count": null,
   "id": "7a75fa1c",
   "metadata": {},
   "outputs": [],
   "source": [
    "''' The main library we will use is numpy '''\n",
    "\n",
    "''' To execute using the keyboard press shift+enter '''\n",
    "\n",
    "import numpy as np"
   ]
  },
  {
   "cell_type": "code",
   "execution_count": null,
   "id": "37eaac61",
   "metadata": {},
   "outputs": [],
   "source": [
    "''' Let's define a vector '''\n",
    "\n",
    "vector_a = np.array([3,4,5])"
   ]
  },
  {
   "cell_type": "code",
   "execution_count": null,
   "id": "86ee9308",
   "metadata": {},
   "outputs": [],
   "source": [
    "print(vector_a)"
   ]
  },
  {
   "cell_type": "code",
   "execution_count": null,
   "id": "0ae96e75",
   "metadata": {},
   "outputs": [],
   "source": [
    "vector_b = np.array([3+7j,5-8j])"
   ]
  },
  {
   "cell_type": "code",
   "execution_count": null,
   "id": "06a26870",
   "metadata": {},
   "outputs": [],
   "source": [
    "print(vector_b)"
   ]
  },
  {
   "cell_type": "code",
   "execution_count": null,
   "id": "84761916",
   "metadata": {},
   "outputs": [],
   "source": [
    "a_int = 3   # Stored as an integer\n",
    "a_dec = 3.  # Stored as a decimal"
   ]
  },
  {
   "cell_type": "code",
   "execution_count": null,
   "id": "7f58ba56",
   "metadata": {},
   "outputs": [],
   "source": [
    "vector_d = np.array([4,5])"
   ]
  },
  {
   "cell_type": "code",
   "execution_count": null,
   "id": "0f397dce",
   "metadata": {},
   "outputs": [],
   "source": [
    "vector_f = vector_d+vector_b"
   ]
  },
  {
   "cell_type": "code",
   "execution_count": null,
   "id": "84648709",
   "metadata": {},
   "outputs": [],
   "source": [
    "vector_g = (4-7j)*vector_f\n",
    "vector_g"
   ]
  },
  {
   "cell_type": "markdown",
   "id": "a6c74b13",
   "metadata": {},
   "source": [
    "# Find $x$ such that:\n",
    "\n",
    "#### $x*(1+i,-4,-3+i) = (-2,-4+i,-2+4i)$"
   ]
  },
  {
   "cell_type": "code",
   "execution_count": null,
   "id": "c4626318",
   "metadata": {},
   "outputs": [],
   "source": [
    "''' Hint: There is no solution '''\n",
    "v1 = np.array([1+1j,-4,-3+1j])\n",
    "v2 = np.array([-2,-4+1j,-2+4j])"
   ]
  },
  {
   "cell_type": "code",
   "execution_count": null,
   "id": "2864a885",
   "metadata": {},
   "outputs": [],
   "source": [
    "x  = 1 \n",
    "v2 - x * v1"
   ]
  },
  {
   "cell_type": "code",
   "execution_count": null,
   "id": "0e0c1222",
   "metadata": {},
   "outputs": [],
   "source": [
    "''' How to define functions in python '''\n",
    "\n",
    "def build_complex(a,b):\n",
    "    ''' \n",
    "        Arguments correspond to the real and imaginary parts of a complex number \n",
    "        Returns the complex number whose real part is a and imaginary part is b\n",
    "    '''\n",
    "    return a + b * 1j"
   ]
  },
  {
   "cell_type": "code",
   "execution_count": null,
   "id": "df22ad11",
   "metadata": {},
   "outputs": [],
   "source": [
    "print(build_complex(np.array([1,2]),np.array([3,4])))"
   ]
  },
  {
   "cell_type": "code",
   "execution_count": null,
   "id": "bd05bbcc",
   "metadata": {},
   "outputs": [],
   "source": [
    "def inverse_complex(a,b):\n",
    "    ''' Returns the inverse of a complex number '''\n",
    "    return (a/(a**2+b**2)) + (-b/(a**2+b**2))*1j"
   ]
  },
  {
   "cell_type": "code",
   "execution_count": null,
   "id": "e8ee6d74",
   "metadata": {},
   "outputs": [],
   "source": [
    "''' Python knows how to find the inverse of a complex number natively '''\n",
    "a = 33\n",
    "b = 81\n",
    "\n",
    "z = build_complex(a,b)\n",
    "z_inv = inverse_complex(a,b) \n",
    "print(z)\n",
    "print(z_inv)\n",
    "print(z*z_inv)\n",
    "print(1/z)"
   ]
  },
  {
   "cell_type": "code",
   "execution_count": null,
   "id": "bcfbe394",
   "metadata": {},
   "outputs": [],
   "source": [
    "''' More examples of functions in python '''\n",
    "\n",
    "''' \n",
    "    Let's do a function that takes two vectors and determines if they are parallel \n",
    "    \n",
    "    Geometrically Parallel    < ===== >    Algebraic Lists are multiples of each other\n",
    "    \n",
    "'''\n",
    "\n",
    "print(np.array([1,2]))\n",
    "print(np.array([2,4]))"
   ]
  }
 ],
 "metadata": {
  "kernelspec": {
   "display_name": "Python 3 (ipykernel)",
   "language": "python",
   "name": "python3"
  },
  "language_info": {
   "codemirror_mode": {
    "name": "ipython",
    "version": 3
   },
   "file_extension": ".py",
   "mimetype": "text/x-python",
   "name": "python",
   "nbconvert_exporter": "python",
   "pygments_lexer": "ipython3",
   "version": "3.9.12"
  }
 },
 "nbformat": 4,
 "nbformat_minor": 5
}
