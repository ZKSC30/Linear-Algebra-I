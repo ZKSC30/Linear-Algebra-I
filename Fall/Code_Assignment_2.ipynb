{
 "cells": [
  {
   "cell_type": "markdown",
   "id": "4c03339d",
   "metadata": {},
   "source": [
    "# Code Assignment 2: Linear Independence & Bases"
   ]
  },
  {
   "cell_type": "code",
   "execution_count": null,
   "id": "64d213d5",
   "metadata": {},
   "outputs": [],
   "source": [
    "import numpy as np\n",
    "import matplotlib.pyplot as plt"
   ]
  },
  {
   "cell_type": "markdown",
   "id": "cc6efcf5",
   "metadata": {},
   "source": [
    "## Problem 1: Linear Independence I\n",
    "\n",
    "#### Computationally the quickest way to determine if three vectors in $\\mathbb R^3$ are linearly independent is to compute their \"exterior product\", we will see this later when we discuss determinants. \n",
    "\n",
    "#### The relevant Theorem is:\n",
    "\n",
    "#### Given $\\vec a$, $\\vec b$,$\\vec c\\in\\mathbb R^3$ then the set $\\{\\vec a,\\vec b,\\vec c\\}$ is linearly independent if and only if their exterior product $\\vec a \\wedge \\vec b\\wedge \\vec c$ is not zero.\n",
    "\n",
    "#### The formula for the exterior product is:\n",
    "\n",
    "\\begin{equation}\n",
    "    \\vec a \\wedge \\vec b\\wedge \\vec c = a_1 b_2 c_3 + b_1 c_2 a_3 + c_1 a_2 b_3 - a_3 b_2 c_1 - b_3 c_2 a_1 - c_3 a_2 b_1\n",
    "\\end{equation}\n",
    "\n",
    "### a) Write a function that takes three vectors and returns their exterior product."
   ]
  },
  {
   "cell_type": "code",
   "execution_count": null,
   "id": "c34b1349",
   "metadata": {},
   "outputs": [],
   "source": [
    "def exterior_product(a,b,c):\n",
    "    exterior = # Your code goes here\n",
    "    return exterior"
   ]
  },
  {
   "cell_type": "markdown",
   "id": "6e1cc6bd",
   "metadata": {},
   "source": [
    "### b) Write a function that takes three vectors and returns True if they are lineraly independent and False if not [Hint:Part a might be useful]"
   ]
  },
  {
   "cell_type": "code",
   "execution_count": null,
   "id": "539af5f2",
   "metadata": {},
   "outputs": [],
   "source": [
    "def are_linearly_independent(a,b,c):\n",
    "    are_independet = True\n",
    "    # Your code goes here\n",
    "    return are_independent"
   ]
  },
  {
   "cell_type": "markdown",
   "id": "db090f3b",
   "metadata": {},
   "source": [
    "## Problem 2: Control Flow in Python\n",
    "\n",
    "#### In this problem we expand on the syntax of if/else clauses.\n",
    "\n",
    "## a) Complete the following function to return the largest number out of a list of 3 numbers. [Hint: How many possible ways are there to order three numbers?]"
   ]
  },
  {
   "cell_type": "code",
   "execution_count": null,
   "id": "c3545b21",
   "metadata": {},
   "outputs": [],
   "source": [
    "def get_max(a,b,c):\n",
    "    rval = a\n",
    "    \n",
    "    if a>b and b>c:\n",
    "        rval = a\n",
    "    \n",
    "    elif c>a and a>b:\n",
    "        rval = c\n",
    "    \n",
    "    elif b>c and c>a:\n",
    "        rval = b\n",
    "    \n",
    "    # Your code goes here\n",
    "    \n",
    "    return rval"
   ]
  },
  {
   "cell_type": "markdown",
   "id": "6cb0c41a",
   "metadata": {},
   "source": [
    "#### The division algorithm for natural numbers consists of finding the largest number (quotient) that multiplied by the divisor is less than the dividend, if the multiplication is exactly equal to the dividend we say that the division is exact and that the dividend is divisible by the divisor. We call \"the residue\" of the division the difference between the dividend and the product of the quotient and divisor, hence if the division is exact the residue is zero.\n",
    "\n",
    "#### For example:\n",
    "\n",
    "\\begin{equation}\n",
    "    7 = 3 * 2 + 1,\n",
    "\\end{equation}\n",
    "\n",
    "#### means that the division of 7 by 3 has quotient 2 and residue 1. In python to get the quotient of the division we can use the symbol //, while the residue can be obtained using %.\n",
    "\n",
    "#### For example:\n",
    "\n",
    "\\begin{align}\n",
    "    7 // 3 = 2\\\\\n",
    "    7 \\%  3 = 1,\n",
    "\\end{align}\n",
    "\n",
    "## b) Complete the following function that takes a number and returns half of it if the number is even (divisible by 2) or returns three times the number plus one if it is odd. [Hint: What residue do odd numbers leave when divided by 2?]"
   ]
  },
  {
   "cell_type": "code",
   "execution_count": null,
   "id": "b2b6e6ea",
   "metadata": {},
   "outputs": [],
   "source": [
    "def collatz_map(number):\n",
    "    result = number\n",
    "    if # Your code goes here\n",
    "    else # Your code goes here\n",
    "    return result"
   ]
  },
  {
   "cell_type": "markdown",
   "id": "e0b94ee5",
   "metadata": {},
   "source": [
    "## Problem 3: Linear Independence of Functions\n",
    "\n",
    "#### In this problem we investigate a way of representing functions as vectors and how to evaluate things as linear independence of functions by means of this representation. \n",
    "\n",
    "#### Consider a function $f(x)$ of a real variable $x\\in\\mathbb R$ we can build a vector representation for $x$ by evaluating it at some points in its domain, for instance take $f(x)=x^2$ defined in the interval $[0,1]$, one possible vectorization of this function is to evaluate it at ten equidistant points in the interval $[0,1]$:\n",
    "\n",
    "\\begin{equation}\n",
    "    f_{\\text{vec}} = ( 0.1^2,0.2^2,\\cdots,0.9^2,1.0^2 ) = (0.01,0.04,\\cdots,0.81,1)\n",
    "\\end{equation}\n",
    "\n",
    "#### which looks like"
   ]
  },
  {
   "cell_type": "code",
   "execution_count": null,
   "id": "cc47b0ad",
   "metadata": {},
   "outputs": [],
   "source": [
    "x_axis       = [ i/10 for i in range(10) ]\n",
    "f_vectorized = [ xs**2 for xs in x_axis ]\n",
    "plt.scatter(x_axis,f_vectorized)\n",
    "plt.show()"
   ]
  },
  {
   "cell_type": "markdown",
   "id": "9551fa61",
   "metadata": {},
   "source": [
    "#### as the number of points increases the function looks more \"continuous\", i.e. the gaps are smaller"
   ]
  },
  {
   "cell_type": "code",
   "execution_count": null,
   "id": "8587efd9",
   "metadata": {},
   "outputs": [],
   "source": [
    "num_points   = 25\n",
    "x_1 = [ i/num_points for i in range(num_points) ]\n",
    "x_2 = [ xs**2 for xs in x_axis ]\n",
    "plt.scatter(x_axis,f_vectorized)\n",
    "plt.show()"
   ]
  },
  {
   "cell_type": "markdown",
   "id": "fcd00c51",
   "metadata": {},
   "source": [
    "#### If we now wish to express linear independnece between two functions we can do so though the vectorized verisons, for instance consider the functions $\\{x,x^2,x^3\\}$ with a vectorization with 10 points:"
   ]
  },
  {
   "cell_type": "code",
   "execution_count": null,
   "id": "ce76d844",
   "metadata": {},
   "outputs": [],
   "source": [
    "num_points   = 10\n",
    "x_1 = [ i/num_points for i in range(num_points) ]\n",
    "x_2 = [ xs**2 for xs in x_1 ]\n",
    "x_3 = [ xs**3 for xs in x_1 ] \n",
    "plt.scatter(x_1,x_1)\n",
    "plt.scatter(x_1,x_2)\n",
    "plt.scatter(x_1,x_3)\n",
    "plt.show()"
   ]
  },
  {
   "cell_type": "markdown",
   "id": "b65cfef1",
   "metadata": {},
   "source": [
    "#### a) Write a non-zero linear combination of $\\{x,x^2,x^3\\}$ that is zero at $\\{0,1/2,1\\}$ and display its vectorized version. [Hint: You might want to use paper and pencil to compute the coefficients.]"
   ]
  },
  {
   "cell_type": "code",
   "execution_count": null,
   "id": "673699b1",
   "metadata": {},
   "outputs": [],
   "source": [
    "coeff_x1 = # Your constant goes here\n",
    "coeff_x2 = # Your constant goes here\n",
    "coeff_x3 = # Your constant goes here\n",
    "\n",
    "''' Build the combination using list comprehension '''\n",
    "combination = # Your code goes here\n",
    "\n",
    "''' Display the vectorized linear combination '''\n",
    "# Your code goes here"
   ]
  },
  {
   "cell_type": "markdown",
   "id": "557f4786",
   "metadata": {},
   "source": [
    "#### b) Write a non-zero linear combination of $\\{x,x^2,x^3\\}$ that is zero at $\\{0,1/2,9/10\\}$ and display its vectorized version. [Hint: You might want to use paper and pencil to compute the coefficients.]"
   ]
  },
  {
   "cell_type": "code",
   "execution_count": null,
   "id": "4d500999",
   "metadata": {},
   "outputs": [],
   "source": [
    "coeff_x1 = # Your constant goes here\n",
    "coeff_x2 = # Your constant goes here\n",
    "coeff_x3 = # Your constant goes here\n",
    "\n",
    "''' Build the combination using list comprehension '''\n",
    "combination = # Your code goes here\n",
    "\n",
    "''' Display the vectorized linear combination '''\n",
    "# Your code goes here"
   ]
  },
  {
   "cell_type": "markdown",
   "id": "95e4b97d",
   "metadata": {},
   "source": [
    "#### c) Do you think it is possible to find a linear combination of these three functions that vanishes everywhere? Why? [Hint: Think of how many coefficients are there and how many points does the function need to vanish at]"
   ]
  },
  {
   "cell_type": "markdown",
   "id": "c7bd63d7",
   "metadata": {},
   "source": []
  }
 ],
 "metadata": {
  "kernelspec": {
   "display_name": "Python 3 (ipykernel)",
   "language": "python",
   "name": "python3"
  },
  "language_info": {
   "codemirror_mode": {
    "name": "ipython",
    "version": 3
   },
   "file_extension": ".py",
   "mimetype": "text/x-python",
   "name": "python",
   "nbconvert_exporter": "python",
   "pygments_lexer": "ipython3",
   "version": "3.9.12"
  }
 },
 "nbformat": 4,
 "nbformat_minor": 5
}
