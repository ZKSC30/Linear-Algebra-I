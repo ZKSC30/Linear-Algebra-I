{
 "cells": [
  {
   "cell_type": "markdown",
   "id": "45608282",
   "metadata": {},
   "source": [
    "# Code Assignment 3: Matrices"
   ]
  },
  {
   "cell_type": "code",
   "execution_count": 1,
   "id": "c91da806",
   "metadata": {},
   "outputs": [],
   "source": [
    "import numpy as np"
   ]
  },
  {
   "cell_type": "markdown",
   "id": "6cb88b2d",
   "metadata": {},
   "source": [
    "## Problem 1: Linear Maps as numpy Arrays\n",
    "\n",
    "### Consider the linear maps $A\\in\\mathcal{L}(\\mathbb R^3,\\mathbb R^3)$, $B\\in\\mathcal{L}(\\mathbb R^3,\\mathbb R^2)$, and $C\\in\\mathcal{L}(\\mathbb R^2,\\mathbb R^3)$ given by the matrices:\n",
    "\n",
    "\\begin{equation}\n",
    "    A=\\begin{pmatrix}\n",
    "        7 & 8-i & -1\\\\\n",
    "        4 & -5 & 3+2i\\\\\n",
    "        7-i & 6-i & 2\n",
    "    \\end{pmatrix},\n",
    "    B=\\begin{pmatrix}\n",
    "        0 & 9i & 10\\\\\n",
    "        -2-i & 3+4i & 7+12i\\\\\n",
    "    \\end{pmatrix},\n",
    "    C=\\begin{pmatrix}\n",
    "        1+3i & 1 \\\\\n",
    "        -11 & 2+5i\\\\\n",
    "        6 & 3-8i\n",
    "    \\end{pmatrix},\n",
    "\\end{equation}\n",
    "\n",
    "\n",
    "#### a) Compute all compositions that exist using python?\n"
   ]
  },
  {
   "cell_type": "code",
   "execution_count": 14,
   "id": "ea90c1a3",
   "metadata": {},
   "outputs": [],
   "source": [
    "# Your code goes here"
   ]
  },
  {
   "cell_type": "markdown",
   "id": "98c2fcc6",
   "metadata": {},
   "source": [
    "#### b) Compute all double compositions ($A\\circ B\\circ C,A\\circ C\\circ B,...$) that exist using python?"
   ]
  },
  {
   "cell_type": "code",
   "execution_count": 16,
   "id": "6363613e",
   "metadata": {},
   "outputs": [],
   "source": [
    "# Your code goes here"
   ]
  }
 ],
 "metadata": {
  "kernelspec": {
   "display_name": "Python 3 (ipykernel)",
   "language": "python",
   "name": "python3"
  },
  "language_info": {
   "codemirror_mode": {
    "name": "ipython",
    "version": 3
   },
   "file_extension": ".py",
   "mimetype": "text/x-python",
   "name": "python",
   "nbconvert_exporter": "python",
   "pygments_lexer": "ipython3",
   "version": "3.9.12"
  }
 },
 "nbformat": 4,
 "nbformat_minor": 5
}
